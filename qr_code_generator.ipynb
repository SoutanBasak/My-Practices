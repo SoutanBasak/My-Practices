{
 "cells": [
  {
   "cell_type": "code",
   "execution_count": null,
   "id": "5abcdf7f",
   "metadata": {},
   "outputs": [],
   "source": [
    "# QR Code Generation Program"
   ]
  },
  {
   "cell_type": "code",
   "execution_count": null,
   "id": "79140a28",
   "metadata": {},
   "outputs": [],
   "source": []
  },
  {
   "cell_type": "code",
   "execution_count": 2,
   "id": "d8f1ce11",
   "metadata": {},
   "outputs": [
    {
     "name": "stdout",
     "output_type": "stream",
     "text": [
      "Collecting pyqrcode\n",
      "  Using cached PyQRCode-1.2.1.zip (41 kB)\n",
      "Building wheels for collected packages: pyqrcode\n",
      "  Building wheel for pyqrcode (setup.py): started\n",
      "  Building wheel for pyqrcode (setup.py): finished with status 'done'\n",
      "  Created wheel for pyqrcode: filename=PyQRCode-1.2.1-py3-none-any.whl size=36245 sha256=790e50b05004c909f2df4bd0aa863d90942a1a2f890ddd67fcd539a3e24589e1\n",
      "  Stored in directory: c:\\users\\souta\\appdata\\local\\pip\\cache\\wheels\\e6\\5e\\b1\\e42b38f43c94593ea57059de7e585c009c0f54e36e1a532992\n",
      "Successfully built pyqrcode\n",
      "Installing collected packages: pyqrcode\n",
      "Successfully installed pyqrcode-1.2.1\n",
      "Note: you may need to restart the kernel to use updated packages.\n"
     ]
    }
   ],
   "source": [
    "pip install pyqrcode"
   ]
  },
  {
   "cell_type": "code",
   "execution_count": 5,
   "id": "e6de3b72",
   "metadata": {},
   "outputs": [
    {
     "name": "stdout",
     "output_type": "stream",
     "text": [
      "Collecting pypng\n",
      "  Downloading pypng-0.0.21-py3-none-any.whl (48 kB)\n",
      "Installing collected packages: pypng\n",
      "Successfully installed pypng-0.0.21\n",
      "Note: you may need to restart the kernel to use updated packages.\n"
     ]
    }
   ],
   "source": [
    "pip install pypng"
   ]
  },
  {
   "cell_type": "code",
   "execution_count": 6,
   "id": "9380887b",
   "metadata": {},
   "outputs": [
    {
     "name": "stdout",
     "output_type": "stream",
     "text": [
      "Code executed properly\n"
     ]
    }
   ],
   "source": [
    "import pyqrcode\n",
    "import sys\n",
    "\n",
    "def qr_code():\n",
    "    s = 'Soutan Basak ~ soutanbasak@gmail.com ~'\n",
    "    d = pyqrcode.create(s)\n",
    "    d.png(\"my_img.png\", scale=6)\n",
    "    print('Code executed properly')\n",
    "\n",
    "if __name__ == '__main__':\n",
    "    qr_code()"
   ]
  },
  {
   "cell_type": "markdown",
   "id": "94e80138",
   "metadata": {},
   "source": []
  },
  {
   "cell_type": "code",
   "execution_count": null,
   "id": "cfa1a1b4",
   "metadata": {},
   "outputs": [],
   "source": []
  }
 ],
 "metadata": {
  "kernelspec": {
   "display_name": "Python 3",
   "language": "python",
   "name": "python3"
  },
  "language_info": {
   "codemirror_mode": {
    "name": "ipython",
    "version": 3
   },
   "file_extension": ".py",
   "mimetype": "text/x-python",
   "name": "python",
   "nbconvert_exporter": "python",
   "pygments_lexer": "ipython3",
   "version": "3.8.8"
  }
 },
 "nbformat": 4,
 "nbformat_minor": 5
}
