{
 "cells": [
  {
   "cell_type": "code",
   "execution_count": 4,
   "id": "fa613e54",
   "metadata": {},
   "outputs": [
    {
     "name": "stdout",
     "output_type": "stream",
     "text": [
      "Collecting pyautogui\n",
      "  Using cached PyAutoGUI-0.9.53.tar.gz (59 kB)\n",
      "Collecting pymsgbox\n",
      "  Using cached PyMsgBox-1.0.9.tar.gz (18 kB)\n",
      "  Installing build dependencies: started\n",
      "  Installing build dependencies: finished with status 'done'\n",
      "  Getting requirements to build wheel: started\n",
      "  Getting requirements to build wheel: finished with status 'done'\n",
      "    Preparing wheel metadata: started\n",
      "    Preparing wheel metadata: finished with status 'done'\n",
      "Collecting PyTweening>=1.0.1\n",
      "  Using cached pytweening-1.0.4.tar.gz (14 kB)\n",
      "Collecting pyscreeze>=0.1.21\n",
      "  Using cached PyScreeze-0.1.28.tar.gz (25 kB)\n",
      "  Installing build dependencies: started\n",
      "  Installing build dependencies: finished with status 'done'\n",
      "  Getting requirements to build wheel: started\n",
      "  Getting requirements to build wheel: finished with status 'done'\n",
      "    Preparing wheel metadata: started\n",
      "    Preparing wheel metadata: finished with status 'done'\n",
      "Collecting pygetwindow>=0.0.5\n",
      "  Using cached PyGetWindow-0.0.9.tar.gz (9.7 kB)\n",
      "Collecting mouseinfo\n",
      "  Using cached MouseInfo-0.1.3.tar.gz (10 kB)\n",
      "Collecting pyrect\n",
      "  Using cached PyRect-0.1.4.tar.gz (15 kB)\n",
      "Requirement already satisfied: Pillow>=6.2.1 in c:\\users\\souta\\anaconda3\\lib\\site-packages (from pyscreeze>=0.1.21->pyautogui) (8.2.0)\n",
      "Collecting pyperclip\n",
      "  Using cached pyperclip-1.8.2.tar.gz (20 kB)\n",
      "Building wheels for collected packages: pyautogui, pygetwindow, pyscreeze, PyTweening, mouseinfo, pymsgbox, pyperclip, pyrect\n",
      "  Building wheel for pyautogui (setup.py): started\n",
      "  Building wheel for pyautogui (setup.py): finished with status 'done'\n",
      "  Created wheel for pyautogui: filename=PyAutoGUI-0.9.53-py3-none-any.whl size=36583 sha256=93b1838f126da86b72ac53423f7d9edae5b4713e020306e4672a5c354248921e\n",
      "  Stored in directory: c:\\users\\souta\\appdata\\local\\pip\\cache\\wheels\\54\\04\\f7\\55704a9d374ed923785a4fdc0ef00151fa25306b3b93345532\n",
      "  Building wheel for pygetwindow (setup.py): started\n",
      "  Building wheel for pygetwindow (setup.py): finished with status 'done'\n",
      "  Created wheel for pygetwindow: filename=PyGetWindow-0.0.9-py3-none-any.whl size=11078 sha256=7ccfde766d591def7c1ed14ad7e1ee82ca36e7b20c4e139c0766cf84131c8f54\n",
      "  Stored in directory: c:\\users\\souta\\appdata\\local\\pip\\cache\\wheels\\91\\e3\\04\\184bda98ec7f7d5f0ba1f372bcf7b3ba86325151ae1dd690fe\n",
      "  Building wheel for pyscreeze (PEP 517): started\n",
      "  Building wheel for pyscreeze (PEP 517): finished with status 'done'\n",
      "  Created wheel for pyscreeze: filename=PyScreeze-0.1.28-py3-none-any.whl size=13021 sha256=de091706ce3ef9f0d3c5d287a5348637dbd4bfd7d17bd7848a50e58fbcff3b8c\n",
      "  Stored in directory: c:\\users\\souta\\appdata\\local\\pip\\cache\\wheels\\b1\\b0\\5c\\9fb5beb2d6c708479a670e92f4ab3b54523a15c9cd4a46e24e\n",
      "  Building wheel for PyTweening (setup.py): started\n",
      "  Building wheel for PyTweening (setup.py): finished with status 'done'\n",
      "  Created wheel for PyTweening: filename=pytweening-1.0.4-py3-none-any.whl size=5825 sha256=222c0f0d7be65c72f6d4040a4dbab513dda70259e81ba91516674afe793e0e66\n",
      "  Stored in directory: c:\\users\\souta\\appdata\\local\\pip\\cache\\wheels\\a2\\1b\\69\\dc477653ccc19228bf53af76c623e4e82e5dc1b6f78d5c4d35\n",
      "  Building wheel for mouseinfo (setup.py): started\n",
      "  Building wheel for mouseinfo (setup.py): finished with status 'done'\n",
      "  Created wheel for mouseinfo: filename=MouseInfo-0.1.3-py3-none-any.whl size=10905 sha256=44224ec224c08a08e52d5c4ca241f7f505e4b089159f2b62c2face61367b58fa\n",
      "  Stored in directory: c:\\users\\souta\\appdata\\local\\pip\\cache\\wheels\\d1\\72\\fb\\35f403de66285df8ecca7049bcc61bfb57aba0f76d1f08f7eb\n",
      "  Building wheel for pymsgbox (PEP 517): started\n",
      "  Building wheel for pymsgbox (PEP 517): finished with status 'done'\n",
      "  Created wheel for pymsgbox: filename=PyMsgBox-1.0.9-py3-none-any.whl size=7420 sha256=6002bf8b3bb430ac80f2c82719c7cf378ed3b743acc0647c0d66620063043211\n",
      "  Stored in directory: c:\\users\\souta\\appdata\\local\\pip\\cache\\wheels\\91\\28\\0d\\f4eb606d38276836237d6dc2abf094241e6db5682a126e0389\n",
      "  Building wheel for pyperclip (setup.py): started\n",
      "  Building wheel for pyperclip (setup.py): finished with status 'done'\n",
      "  Created wheel for pyperclip: filename=pyperclip-1.8.2-py3-none-any.whl size=11107 sha256=aea3d9206043088479278a0f54b92deebf0b8f3e0706ff960a3c5096f4e09290\n",
      "  Stored in directory: c:\\users\\souta\\appdata\\local\\pip\\cache\\wheels\\7f\\1a\\65\\84ff8c386bec21fca6d220ea1f5498a0367883a78dd5ba6122\n",
      "  Building wheel for pyrect (setup.py): started\n",
      "  Building wheel for pyrect (setup.py): finished with status 'done'\n",
      "  Created wheel for pyrect: filename=PyRect-0.1.4-py2.py3-none-any.whl size=9547 sha256=fa6b8a3ef206022d90abecba92d8d02eef9c6415f6335cf61026bbf7ddb3c460\n",
      "  Stored in directory: c:\\users\\souta\\appdata\\local\\pip\\cache\\wheels\\d1\\e4\\47\\c62f8291b16b6df7e89ac885881ff71f35ca04c6e384251de9\n",
      "Successfully built pyautogui pygetwindow pyscreeze PyTweening mouseinfo pymsgbox pyperclip pyrect\n",
      "Installing collected packages: pyrect, pyperclip, PyTweening, pyscreeze, pymsgbox, pygetwindow, mouseinfo, pyautogui\n",
      "Successfully installed PyTweening-1.0.4 mouseinfo-0.1.3 pyautogui-0.9.53 pygetwindow-0.0.9 pymsgbox-1.0.9 pyperclip-1.8.2 pyrect-0.1.4 pyscreeze-0.1.28\n",
      "Note: you may need to restart the kernel to use updated packages.\n"
     ]
    }
   ],
   "source": [
    "pip install pyautogui"
   ]
  },
  {
   "cell_type": "code",
   "execution_count": 6,
   "id": "f71c0090",
   "metadata": {},
   "outputs": [
    {
     "name": "stdout",
     "output_type": "stream",
     "text": [
      "Collecting opencv-python\n",
      "  Using cached opencv_python-4.5.5.62-cp36-abi3-win_amd64.whl (35.4 MB)\n",
      "Requirement already satisfied: numpy>=1.17.3 in c:\\users\\souta\\appdata\\roaming\\python\\python38\\site-packages (from opencv-python) (1.19.5)\n",
      "Installing collected packages: opencv-python\n",
      "Successfully installed opencv-python-4.5.5.62\n",
      "Note: you may need to restart the kernel to use updated packages.\n"
     ]
    }
   ],
   "source": [
    "pip install opencv-python"
   ]
  },
  {
   "cell_type": "code",
   "execution_count": 7,
   "id": "c8c62c43",
   "metadata": {},
   "outputs": [
    {
     "name": "stdout",
     "output_type": "stream",
     "text": [
      "Requirement already satisfied: numpy in c:\\users\\souta\\appdata\\roaming\\python\\python38\\site-packages (1.19.5)\n",
      "Note: you may need to restart the kernel to use updated packages.\n"
     ]
    }
   ],
   "source": [
    "pip install numpy"
   ]
  },
  {
   "cell_type": "markdown",
   "id": "34214a0c",
   "metadata": {},
   "source": [
    "# Import Required Modules"
   ]
  },
  {
   "cell_type": "code",
   "execution_count": 8,
   "id": "3c04e088",
   "metadata": {},
   "outputs": [],
   "source": [
    "# importing the required packages\n",
    "import pyautogui\n",
    "import cv2\n",
    "import numpy as np"
   ]
  },
  {
   "cell_type": "markdown",
   "id": "08e3329a",
   "metadata": {},
   "source": [
    "# Create VideoWriter Object"
   ]
  },
  {
   "cell_type": "code",
   "execution_count": 9,
   "id": "f89b3372",
   "metadata": {},
   "outputs": [],
   "source": [
    "# Specify resolution\n",
    "resolution = pyautogui.size()\n",
    "# Specify Video Codec\n",
    "codec = cv2.VideoWriter_fourcc(*\"XViD\")\n",
    "# Specify name of output file\n",
    "filename = \"Recording.avi\"\n",
    "# Specify frame rates\n",
    "fps = 60.0\n",
    "# Creating a VideoWriter Object\n",
    "out = cv2.VideoWriter(filename, codec, fps, resolution)"
   ]
  },
  {
   "cell_type": "markdown",
   "id": "378f67f7",
   "metadata": {},
   "source": [
    "# Create Window to show live recording"
   ]
  },
  {
   "cell_type": "code",
   "execution_count": 10,
   "id": "a2b72d36",
   "metadata": {},
   "outputs": [],
   "source": [
    "# Create an empty window\n",
    "cv2.namedWindow(\"Live\", cv2.WINDOW_NORMAL)\n",
    "# Resize this window\n",
    "cv2.resizeWindow(\"Live\", 480, 270)"
   ]
  },
  {
   "cell_type": "markdown",
   "id": "d942a996",
   "metadata": {},
   "source": [
    "# Infinite loop for record screen"
   ]
  },
  {
   "cell_type": "code",
   "execution_count": 11,
   "id": "138dce48",
   "metadata": {},
   "outputs": [],
   "source": [
    "while True:\n",
    "    # take screenshot using PyAutoGUI\n",
    "    img = pyautogui.screenshot()\n",
    "    # covert the screenshot to a numpy array\n",
    "    frame = np.array(img)\n",
    "    frame = cv2.cvtColor(frame, cv2.COLOR_BGR2RGB)\n",
    "    # write it to the output file\n",
    "    out.write(frame)\n",
    "    # display the recording screen\n",
    "    cv2.imshow('Live', frame)\n",
    "    # stop recording when we press 'q'\n",
    "    if cv2.waitKey(1) == ord('q'):\n",
    "        break"
   ]
  },
  {
   "cell_type": "markdown",
   "id": "1bc115a5",
   "metadata": {},
   "source": [
    "# Release Resources and Destroy windows"
   ]
  },
  {
   "cell_type": "code",
   "execution_count": 12,
   "id": "d70bcc61",
   "metadata": {},
   "outputs": [],
   "source": [
    "# release the video writer\n",
    "out.release()\n",
    "# destroy all windows\n",
    "cv2.destroyAllWindows()"
   ]
  },
  {
   "cell_type": "code",
   "execution_count": null,
   "id": "f6fc198f",
   "metadata": {},
   "outputs": [],
   "source": []
  }
 ],
 "metadata": {
  "kernelspec": {
   "display_name": "Python 3",
   "language": "python",
   "name": "python3"
  },
  "language_info": {
   "codemirror_mode": {
    "name": "ipython",
    "version": 3
   },
   "file_extension": ".py",
   "mimetype": "text/x-python",
   "name": "python",
   "nbconvert_exporter": "python",
   "pygments_lexer": "ipython3",
   "version": "3.8.8"
  }
 },
 "nbformat": 4,
 "nbformat_minor": 5
}
